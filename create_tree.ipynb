{
 "cells": [
  {
   "cell_type": "code",
   "execution_count": 2,
   "metadata": {},
   "outputs": [],
   "source": [
    "from biotite.sequence.phylo import neighbor_joining\n",
    "import numpy as np\n",
    "from ete3 import Tree"
   ]
  },
  {
   "cell_type": "code",
   "execution_count": null,
   "metadata": {},
   "outputs": [],
   "source": [
    "distances = np.array([\n",
    "    [0, 5.3, 4.6, 7.1, 6.1],\n",
    "    [5.3, 0, 7.3, 10.3, 9.2],\n",
    "    [4.6, 7.3, 0, 7.5, 6.2],\n",
    "    [7.1, 10.3, 7.5, 0, 5.8],\n",
    "    [6.1, 9.2, 6.2,5.8,0.0]\n",
    "]) #Primero se define una matriz de distancias\n",
    "tree = neighbor_joining(distances) #Se aplica el método NJ para realizar el arbol y se guarda\n",
    "graph=tree.to_newick(include_distance=False) #Se obtiene un grafo\n",
    "t=Tree(str(graph),format=1) #Se forma el árbol a partir de un grafo\n",
    "print(t)"
   ]
  },
  {
   "cell_type": "code",
   "execution_count": null,
   "metadata": {},
   "outputs": [],
   "source": []
  },
  {
   "cell_type": "code",
   "execution_count": null,
   "metadata": {},
   "outputs": [],
   "source": [
    "graph #Son de la forma (nodo1,nodo2,nodo3...)"
   ]
  },
  {
   "cell_type": "code",
   "execution_count": null,
   "metadata": {},
   "outputs": [],
   "source": [
    "t1 = Tree(\"(A,(B,(E,D)));\" )\n",
    "t2 = Tree('(A,(H,F),(B,(E,D)));')\n",
    "print(t1)\n",
    "print(t2)"
   ]
  },
  {
   "cell_type": "code",
   "execution_count": null,
   "metadata": {},
   "outputs": [],
   "source": [
    "#Solo se puede comparar con rfd para root trees, asi que le damos un root al tree\n",
    "root_point = t2.get_midpoint_outgroup()\n",
    "t2.set_outgroup(root_point)\n",
    "print(t1)\n",
    "print(t2)\n",
    "n=len(t1)"
   ]
  },
  {
   "cell_type": "code",
   "execution_count": null,
   "metadata": {},
   "outputs": [],
   "source": [
    "t2"
   ]
  },
  {
   "cell_type": "code",
   "execution_count": null,
   "metadata": {},
   "outputs": [],
   "source": [
    "#Calculamos la similaridad de los arboles\n",
    "f=t1.robinson_foulds(t2)\n",
    "dmax=2*(n-2)\n",
    "print (t1, t2)\n",
    "print(\"Same distance holds even for partially overlapping trees\")\n",
    "print(\"RF distance is %s over a total of %s\" %(f[0], f[1]))\n",
    "print(\"Partitions in tree2 that were not found in tree1:\", f[3] - f[4])\n",
    "print(\"Partitions in tree1 that were not found in tree2:\", f[4] - f[3])\n",
    "print(\"Distance of:\",1-f[0]/dmax)"
   ]
  },
  {
   "cell_type": "code",
   "execution_count": 3,
   "metadata": {},
   "outputs": [
    {
     "name": "stdout",
     "output_type": "stream",
     "text": [
      "\n",
      "   /-A\n",
      "  |\n",
      "--|--B\n",
      "  |\n",
      "  |   /-C\n",
      "   \\-|\n",
      "     |   /-D\n",
      "      \\-|\n",
      "         \\-E\n",
      "El árbol ha sido guardado como tree_image.png\n"
     ]
    }
   ],
   "source": [
    "t1 = Tree(\"(A,B,(C,(D,E)));\", format=1)\n",
    "print(t1)\n",
    "t1.show()"
   ]
  },
  {
   "cell_type": "code",
   "execution_count": 4,
   "metadata": {},
   "outputs": [],
   "source": [
    "#Se crean funcio necesarias para construir matrices de distancia aleatorias\n",
    "def symmetrize(a):\n",
    "    \"\"\"\n",
    "    Return a symmetrized version of NumPy array a.\n",
    "\n",
    "    Values 0 are replaced by the array value at the symmetric\n",
    "    position (with respect to the diagonal), i.e. if a_ij = 0,\n",
    "    then the returned array a' is such that a'_ij = a_ji.\n",
    "\n",
    "    Diagonal values are left untouched.\n",
    "\n",
    "    a -- square NumPy array, such that a_ij = 0 or a_ji = 0, \n",
    "    for i != j.\n",
    "    \"\"\"\n",
    "    return a + a.T - np.diag(a.diagonal())\n",
    "def diagonalzero(a):\n",
    "    l=np.shape(a)[0]\n",
    "    for k in range(l):\n",
    "        a[k,k]=0\n",
    "    return a"
   ]
  },
  {
   "cell_type": "code",
   "execution_count": 5,
   "metadata": {},
   "outputs": [],
   "source": [
    "#Algoritmo para matrices de distancia aleatorias\n",
    "def givedistmatrix(l,u,k):\n",
    "    #Input \n",
    "    # l: lower bound of random distance\n",
    "    # u: upper bound of random distance\n",
    "    # k: size of marix   \n",
    "    #Output\n",
    "    # d: Random Distance matrix diagonalized  and symetric\n",
    "    d= np.array([np.random.uniform(l,u,k)])\n",
    "    for j in range(k-1):\n",
    "        d=np.append(d,[np.random.uniform(l,u,k)],axis=0)\n",
    "    d=symmetrize(d)\n",
    "    d=diagonalzero(d)\n",
    "    return d"
   ]
  },
  {
   "cell_type": "code",
   "execution_count": 71,
   "metadata": {},
   "outputs": [
    {
     "data": {
      "text/plain": [
       "array([[0.        , 2.97507107, 2.74095928, ..., 2.84138235, 5.66892842,\n",
       "        1.8189423 ],\n",
       "       [2.97507107, 0.        , 1.75929592, ..., 4.702594  , 3.70930471,\n",
       "        0.63698585],\n",
       "       [2.74095928, 1.75929592, 0.        , ..., 3.92766947, 1.0234343 ,\n",
       "        4.55317327],\n",
       "       ...,\n",
       "       [2.84138235, 4.702594  , 3.92766947, ..., 0.        , 0.54234755,\n",
       "        2.56345282],\n",
       "       [5.66892842, 3.70930471, 1.0234343 , ..., 0.54234755, 0.        ,\n",
       "        4.5016473 ],\n",
       "       [1.8189423 , 0.63698585, 4.55317327, ..., 2.56345282, 4.5016473 ,\n",
       "        0.        ]])"
      ]
     },
     "execution_count": 71,
     "metadata": {},
     "output_type": "execute_result"
    }
   ],
   "source": [
    "m = givedistmatrix(0,3,2000)\n",
    "m"
   ]
  },
  {
   "cell_type": "code",
   "execution_count": 22,
   "metadata": {},
   "outputs": [],
   "source": [
    "from skbio.stats.ordination import pcoa"
   ]
  },
  {
   "cell_type": "code",
   "execution_count": 57,
   "metadata": {},
   "outputs": [
    {
     "data": {
      "text/plain": [
       "array([[ 0.        ,  0.2741202 ,  1.97508147, ..., 12.37676683,\n",
       "        10.52088618,  8.34052992],\n",
       "       [ 0.2741202 ,  0.        ,  2.24920167, ..., 12.65088703,\n",
       "        10.79500638,  8.61465013],\n",
       "       [ 1.97508147,  2.24920167,  0.        , ..., 10.40168536,\n",
       "         8.54580472,  6.36544846],\n",
       "       ...,\n",
       "       [12.37676683, 12.65088703, 10.40168536, ...,  0.        ,\n",
       "         1.85588064,  4.0362369 ],\n",
       "       [10.52088618, 10.79500638,  8.54580472, ...,  1.85588064,\n",
       "         0.        ,  2.18035626],\n",
       "       [ 8.34052992,  8.61465013,  6.36544846, ...,  4.0362369 ,\n",
       "         2.18035626,  0.        ]])"
      ]
     },
     "execution_count": 57,
     "metadata": {},
     "output_type": "execute_result"
    }
   ],
   "source": [
    "m"
   ]
  },
  {
   "cell_type": "code",
   "execution_count": 72,
   "metadata": {},
   "outputs": [
    {
     "name": "stderr",
     "output_type": "stream",
     "text": [
      "c:\\Users\\Practicante_2025\\miniconda3\\envs\\ete_env\\lib\\site-packages\\skbio\\stats\\ordination\\_principal_coordinate_analysis.py:146: RuntimeWarning: The result contains negative eigenvalues. Please compare their magnitude with the magnitude of some of the largest positive eigenvalues. If the negative ones are smaller, it's probably safe to ignore them, but if they are large in magnitude, the results won't be useful. See the Notes section for more details. The smallest eigenvalue is -330.9412412022967 and the largest is 343.342349369921.\n",
      "  warn(\n"
     ]
    }
   ],
   "source": [
    "pcoa_res = pcoa(m,number_of_dimensions=2)"
   ]
  },
  {
   "cell_type": "code",
   "execution_count": 73,
   "metadata": {},
   "outputs": [
    {
     "data": {
      "text/html": [
       "<div>\n",
       "<style scoped>\n",
       "    .dataframe tbody tr th:only-of-type {\n",
       "        vertical-align: middle;\n",
       "    }\n",
       "\n",
       "    .dataframe tbody tr th {\n",
       "        vertical-align: top;\n",
       "    }\n",
       "\n",
       "    .dataframe thead th {\n",
       "        text-align: right;\n",
       "    }\n",
       "</style>\n",
       "<table border=\"1\" class=\"dataframe\">\n",
       "  <thead>\n",
       "    <tr style=\"text-align: right;\">\n",
       "      <th></th>\n",
       "      <th>PC1</th>\n",
       "      <th>PC2</th>\n",
       "    </tr>\n",
       "  </thead>\n",
       "  <tbody>\n",
       "    <tr>\n",
       "      <th>0</th>\n",
       "      <td>-0.043563</td>\n",
       "      <td>-0.185041</td>\n",
       "    </tr>\n",
       "    <tr>\n",
       "      <th>1</th>\n",
       "      <td>0.208900</td>\n",
       "      <td>0.086048</td>\n",
       "    </tr>\n",
       "    <tr>\n",
       "      <th>2</th>\n",
       "      <td>-0.284661</td>\n",
       "      <td>-0.219755</td>\n",
       "    </tr>\n",
       "    <tr>\n",
       "      <th>3</th>\n",
       "      <td>0.631241</td>\n",
       "      <td>0.383780</td>\n",
       "    </tr>\n",
       "    <tr>\n",
       "      <th>4</th>\n",
       "      <td>0.091529</td>\n",
       "      <td>0.122721</td>\n",
       "    </tr>\n",
       "    <tr>\n",
       "      <th>...</th>\n",
       "      <td>...</td>\n",
       "      <td>...</td>\n",
       "    </tr>\n",
       "    <tr>\n",
       "      <th>1995</th>\n",
       "      <td>1.322821</td>\n",
       "      <td>0.257901</td>\n",
       "    </tr>\n",
       "    <tr>\n",
       "      <th>1996</th>\n",
       "      <td>0.064365</td>\n",
       "      <td>-0.199883</td>\n",
       "    </tr>\n",
       "    <tr>\n",
       "      <th>1997</th>\n",
       "      <td>0.330032</td>\n",
       "      <td>0.998716</td>\n",
       "    </tr>\n",
       "    <tr>\n",
       "      <th>1998</th>\n",
       "      <td>-0.468772</td>\n",
       "      <td>0.457002</td>\n",
       "    </tr>\n",
       "    <tr>\n",
       "      <th>1999</th>\n",
       "      <td>0.835790</td>\n",
       "      <td>-0.873690</td>\n",
       "    </tr>\n",
       "  </tbody>\n",
       "</table>\n",
       "<p>2000 rows × 2 columns</p>\n",
       "</div>"
      ],
      "text/plain": [
       "           PC1       PC2\n",
       "0    -0.043563 -0.185041\n",
       "1     0.208900  0.086048\n",
       "2    -0.284661 -0.219755\n",
       "3     0.631241  0.383780\n",
       "4     0.091529  0.122721\n",
       "...        ...       ...\n",
       "1995  1.322821  0.257901\n",
       "1996  0.064365 -0.199883\n",
       "1997  0.330032  0.998716\n",
       "1998 -0.468772  0.457002\n",
       "1999  0.835790 -0.873690\n",
       "\n",
       "[2000 rows x 2 columns]"
      ]
     },
     "execution_count": 73,
     "metadata": {},
     "output_type": "execute_result"
    }
   ],
   "source": [
    "pcoa_res.samples"
   ]
  },
  {
   "cell_type": "code",
   "execution_count": 74,
   "metadata": {},
   "outputs": [
    {
     "data": {
      "text/plain": [
       "<matplotlib.collections.PathCollection at 0x22589762220>"
      ]
     },
     "execution_count": 74,
     "metadata": {},
     "output_type": "execute_result"
    },
    {
     "data": {
      "image/png": "[encoded data removed]",
      "text/plain": [
       "<Figure size 640x480 with 1 Axes>"
      ]
     },
     "metadata": {},
     "output_type": "display_data"
    }
   ],
   "source": [
    "import numpy as np\n",
    "import matplotlib.pyplot as plt\n",
    "\n",
    "coords = pcoa_res.samples\n",
    "df_pcoa = coords[['PC1','PC2']]\n",
    "plt.scatter(df_pcoa['PC1'],df_pcoa['PC2'])"
   ]
  },
  {
   "cell_type": "code",
   "execution_count": 148,
   "metadata": {},
   "outputs": [],
   "source": [
    "def generate_groups(n,dims):\n",
    "    \"\"\"\n",
    "    Esto simula 3 grupos distintos números\n",
    "    Para luego simular calcular distancia entre árboles \n",
    "    \"\"\"\n",
    "    centers = [\n",
    "        [0 for _ in range(dims)],  \n",
    "        [5 if x % 2 == 0 else 0 for x in range(dims)],  \n",
    "        [5 if x % 2 != 0 else 0 for x in range(dims)]  \n",
    "    ]\n",
    "    data = np.zeros(shape=(3*n,dims))\n",
    "    for i,center in enumerate(centers):\n",
    "        cluster = np.random.normal(loc=center, scale=2.0, size=(n, dims)) \n",
    "        data[i * n:(i + 1) * n, :] = cluster\n",
    "    return data"
   ]
  },
  {
   "cell_type": "code",
   "execution_count": 149,
   "metadata": {},
   "outputs": [
    {
     "data": {
      "text/plain": [
       "array([[-1.93860043,  4.59837998,  2.09082488, ..., -1.2568243 ,\n",
       "         2.04387282,  0.64097781],\n",
       "       [-1.82423885, -1.69432018, -1.52434591, ..., -2.04535701,\n",
       "        -2.18311506,  0.93105501],\n",
       "       [ 2.01451219,  0.28374822, -2.13985262, ...,  5.19292005,\n",
       "        -0.82739446,  0.92039853],\n",
       "       ...,\n",
       "       [-0.60561277,  6.76200119, -1.92179646, ...,  3.91670194,\n",
       "         3.45388817,  5.40598071],\n",
       "       [ 1.13448591,  6.65247903, -0.82879774, ...,  3.04335111,\n",
       "        -0.75945226, -1.17534318],\n",
       "       [-1.24357793,  6.31777545,  0.59486172, ...,  6.27086254,\n",
       "        -0.87046489,  6.2584612 ]])"
      ]
     },
     "execution_count": 149,
     "metadata": {},
     "output_type": "execute_result"
    }
   ],
   "source": [
    "m = generate_groups(100,100) #Simula una matriz \n",
    "m"
   ]
  },
  {
   "cell_type": "code",
   "execution_count": 150,
   "metadata": {},
   "outputs": [
    {
     "data": {
      "text/plain": [
       "array([[ 0.        , 29.75648663, 26.03807433, ..., 44.38658311,\n",
       "        46.01860343, 48.09405994],\n",
       "       [29.75648663,  0.        , 29.52745051, ..., 47.60674767,\n",
       "        47.83344219, 49.76722098],\n",
       "       [26.03807433, 29.52745051,  0.        , ..., 42.31888436,\n",
       "        45.57153309, 46.47891983],\n",
       "       ...,\n",
       "       [44.38658311, 47.60674767, 42.31888436, ...,  0.        ,\n",
       "        30.15257037, 29.13351005],\n",
       "       [46.01860343, 47.83344219, 45.57153309, ..., 30.15257037,\n",
       "         0.        , 31.94282042],\n",
       "       [48.09405994, 49.76722098, 46.47891983, ..., 29.13351005,\n",
       "        31.94282042,  0.        ]])"
      ]
     },
     "execution_count": 150,
     "metadata": {},
     "output_type": "execute_result"
    }
   ],
   "source": [
    "from sklearn.metrics import pairwise_distances\n",
    "from skbio.stats.distance import DistanceMatrix\n",
    "\n",
    "distance_matrix = pairwise_distances(m, metric='euclidean') #En esta matriz se almacena la distancia entre árboles\n",
    "distance_matrix = (distance_matrix + distance_matrix.T) / 2\n",
    "distance_matrix"
   ]
  },
  {
   "cell_type": "code",
   "execution_count": 151,
   "metadata": {},
   "outputs": [],
   "source": [
    "pcoa_res = pcoa(distance_matrix,number_of_dimensions=2)"
   ]
  },
  {
   "cell_type": "code",
   "execution_count": 152,
   "metadata": {},
   "outputs": [
    {
     "data": {
      "text/html": [
       "<div>\n",
       "<style scoped>\n",
       "    .dataframe tbody tr th:only-of-type {\n",
       "        vertical-align: middle;\n",
       "    }\n",
       "\n",
       "    .dataframe tbody tr th {\n",
       "        vertical-align: top;\n",
       "    }\n",
       "\n",
       "    .dataframe thead th {\n",
       "        text-align: right;\n",
       "    }\n",
       "</style>\n",
       "<table border=\"1\" class=\"dataframe\">\n",
       "  <thead>\n",
       "    <tr style=\"text-align: right;\">\n",
       "      <th></th>\n",
       "      <th>PC1</th>\n",
       "      <th>PC2</th>\n",
       "    </tr>\n",
       "  </thead>\n",
       "  <tbody>\n",
       "    <tr>\n",
       "      <th>0</th>\n",
       "      <td>0.933892</td>\n",
       "      <td>-17.072645</td>\n",
       "    </tr>\n",
       "    <tr>\n",
       "      <th>1</th>\n",
       "      <td>3.282428</td>\n",
       "      <td>-15.369074</td>\n",
       "    </tr>\n",
       "    <tr>\n",
       "      <th>2</th>\n",
       "      <td>-2.221295</td>\n",
       "      <td>-17.092340</td>\n",
       "    </tr>\n",
       "    <tr>\n",
       "      <th>3</th>\n",
       "      <td>-0.312632</td>\n",
       "      <td>-15.172805</td>\n",
       "    </tr>\n",
       "    <tr>\n",
       "      <th>4</th>\n",
       "      <td>0.081616</td>\n",
       "      <td>-15.773708</td>\n",
       "    </tr>\n",
       "    <tr>\n",
       "      <th>...</th>\n",
       "      <td>...</td>\n",
       "      <td>...</td>\n",
       "    </tr>\n",
       "    <tr>\n",
       "      <th>295</th>\n",
       "      <td>-25.713231</td>\n",
       "      <td>8.284741</td>\n",
       "    </tr>\n",
       "    <tr>\n",
       "      <th>296</th>\n",
       "      <td>-22.543422</td>\n",
       "      <td>6.051257</td>\n",
       "    </tr>\n",
       "    <tr>\n",
       "      <th>297</th>\n",
       "      <td>-27.137388</td>\n",
       "      <td>5.381232</td>\n",
       "    </tr>\n",
       "    <tr>\n",
       "      <th>298</th>\n",
       "      <td>-23.209366</td>\n",
       "      <td>11.637812</td>\n",
       "    </tr>\n",
       "    <tr>\n",
       "      <th>299</th>\n",
       "      <td>-25.821544</td>\n",
       "      <td>12.340983</td>\n",
       "    </tr>\n",
       "  </tbody>\n",
       "</table>\n",
       "<p>300 rows × 2 columns</p>\n",
       "</div>"
      ],
      "text/plain": [
       "           PC1        PC2\n",
       "0     0.933892 -17.072645\n",
       "1     3.282428 -15.369074\n",
       "2    -2.221295 -17.092340\n",
       "3    -0.312632 -15.172805\n",
       "4     0.081616 -15.773708\n",
       "..         ...        ...\n",
       "295 -25.713231   8.284741\n",
       "296 -22.543422   6.051257\n",
       "297 -27.137388   5.381232\n",
       "298 -23.209366  11.637812\n",
       "299 -25.821544  12.340983\n",
       "\n",
       "[300 rows x 2 columns]"
      ]
     },
     "execution_count": 152,
     "metadata": {},
     "output_type": "execute_result"
    }
   ],
   "source": [
    "pcoa_res.samples #Tree space (2D)"
   ]
  },
  {
   "cell_type": "code",
   "execution_count": 153,
   "metadata": {},
   "outputs": [
    {
     "data": {
      "text/plain": [
       "<matplotlib.collections.PathCollection at 0x2258c697df0>"
      ]
     },
     "execution_count": 153,
     "metadata": {},
     "output_type": "execute_result"
    },
    {
     "data": {
      "image/png": "[encoded data removed]",
      "text/plain": [
       "<Figure size 640x480 with 1 Axes>"
      ]
     },
     "metadata": {},
     "output_type": "display_data"
    }
   ],
   "source": [
    "plt.scatter(pcoa_res.samples['PC1'],pcoa_res.samples['PC2'])"
   ]
  },
  {
   "cell_type": "code",
   "execution_count": null,
   "metadata": {},
   "outputs": [],
   "source": []
  }
 ],
 "metadata": {
  "kernelspec": {
   "display_name": "ete_env",
   "language": "python",
   "name": "python3"
  },
  "language_info": {
   "codemirror_mode": {
    "name": "ipython",
    "version": 3
   },
   "file_extension": ".py",
   "mimetype": "text/x-python",
   "name": "python",
   "nbconvert_exporter": "python",
   "pygments_lexer": "ipython3",
   "version": "3.8.20"
  }
 },
 "nbformat": 4,
 "nbformat_minor": 2
}
